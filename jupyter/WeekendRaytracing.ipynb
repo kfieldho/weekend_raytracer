{
 "cells": [
  {
   "cell_type": "markdown",
   "metadata": {},
   "source": [
    "# Weekend Ray Tracing Notes\n",
    "\n",
    "This notebook contains notes and sample code as I work through the book [Ray Tracing in One Weekend](http://in1weekend.blogspot.com/2016/01/ray-tracing-in-one-weekend.html), by implementing the code in the [Rust](https://www.rust-lang.org/en-US/) programming language.\n",
    "\n"
   ]
  },
  {
   "cell_type": "markdown",
   "metadata": {},
   "source": [
    "## Useful References\n",
    "* [Immersive Linear Algebra](http://immersivemath.com/ila/) an online, interactive text book that has proven useful\n",
    "* The articles on [Better Explained](http://www.betterexplained.com), for example [Vector Calculus: Understanding the Dot Product](https://betterexplained.com/articles/vector-calculus-understanding-the-dot-product/)\n"
   ]
  },
  {
   "cell_type": "markdown",
   "metadata": {},
   "source": [
    "\n",
    "## Sphere Intersection Quadratic\n",
    "\n",
    "In chapter 4, there is discussion of testing the intersection between a Ray and the Sphere using a quadratic.  An answer to this [question on StackOverflow](https://stackoverflow.com/questions/1986378/how-to-set-up-quadratic-equation-for-a-ray-sphere-intersection) shows the reasoning more clearly.  It's reproduced here using MathJax to make it easier to read.\n",
    "\n",
    "### How to set up quadratic equation for a ray/sphere intersection?\n",
    "\n",
    "Here's a detailed walkthrough of each step; hopefully this will make things crystal clear. The equation for a three-dimensional sphere is:\n",
    "\n",
    "$$\n",
    "(x-a)^2 + (y-b)^2 + (z-c)^2 = r^2\n",
    "$$\n",
    "\n",
    "with $<a, b, c>$ being the center of the sphere and $r$ its radius. The point $<x, y, z>$ is on the sphere if it satisfies this equation.\n",
    "\n",
    "The parametric equations for a ray are:\n",
    "\n",
    "* $X = x_o + x_d*t$\n",
    "* $Y = y_o + y_d*t$\n",
    "* $Z = z_o + z_d*t$\n",
    "\n",
    "where $<x_o, y_o, z_o>$ is the origin of the ray, and $<x_d,y_d,y_d>$ is camera ray's direction.\n",
    "\n",
    "To find the intersection, we want to see what points on the ray are the same as points on the sphere. So we substitute the ray equation into the sphere equation:\n",
    "\n",
    "$$\n",
    "(x_o + x_d*t - a)^2 + (y_o + y_d*t - b)^2 + (z_o + z_d*t - c)^2 = r^2\n",
    "$$\n",
    "\n",
    "which expands to:\n",
    "\n",
    "$$\n",
    "(xd^2 + yd^2 + zd^2)                              * t^2 +\n",
    "  [2[xd * (xo - a) + yd * (yo - b) + zd *(zo - c)]] * t   +\n",
    "  [(xo - a)^2 + (yo - b)^2 + (zo - c^)2 - r^2]      * 1\n",
    "  = 0\n",
    "$$\n",
    "\n",
    "Notice that this is a quadratic equation in the form $At^2 + Bt + C = 0$, with:\n",
    "\n",
    "* $A = (xd^2 + yd^2 + zd^2)$\n",
    "* $B = [2[xd * (xo - a) + yd * (yo - b) + zd *(zo - c)]]$\n",
    "* $C = [(xo - a)^2 + (yo - b)^2 + (zo - c^)2 - r^2]$\n",
    "\n",
    "We can apply the general quadratic formula for an unknown variable, which is:\n",
    "\n",
    "$$\n",
    "t = [-B +- sqrt(B^2 - 4AC)] / 2A\n",
    "$$\n",
    "\n",
    "The $B^2 - 4AC$ portion is called the \"discriminant\". Depending on the value of the discriminant, we will get zero, one, or two solutions to this equation:\n",
    "\n",
    "* If it is less than zero, the solution is an imaginary number, and the ray and sphere do not intersect in the real plane.\n",
    "* If it is equal to zero, then the ray intersects the sphere at exactly 1 point (it is exactly tangent to the sphere).\n",
    "* If it is greater than zero, then the ray intersects the sphere at exactly 2 points.\n",
    "* If the discriminant indicates that there's no solution, then you're done! The ray doesn't intersect the sphere. If the discriminant indicates at least one solution, you can solve for t to determine the intersection point. The two solutions are:\n",
    "\n",
    "\n",
    "* $t_1 = [-B + sqrt(B^2 - 4AC)] / 2A$\n",
    "* $t_2 = [-B - sqrt(B^2 - 4AC)] / 2A$\n",
    "\n",
    "The smaller solution is the point at which the ray first hits the sphere.\n",
    "\n"
   ]
  },
  {
   "cell_type": "code",
   "execution_count": null,
   "metadata": {},
   "outputs": [],
   "source": []
  }
 ],
 "metadata": {
  "anaconda-cloud": {},
  "kernelspec": {
   "display_name": "Python [default]",
   "language": "python",
   "name": "python3"
  },
  "language_info": {
   "codemirror_mode": {
    "name": "ipython",
    "version": 3
   },
   "file_extension": ".py",
   "mimetype": "text/x-python",
   "name": "python",
   "nbconvert_exporter": "python",
   "pygments_lexer": "ipython3",
   "version": "3.5.2"
  }
 },
 "nbformat": 4,
 "nbformat_minor": 1
}
